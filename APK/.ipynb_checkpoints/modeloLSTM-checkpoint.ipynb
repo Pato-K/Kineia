{
 "cells": [
  {
   "cell_type": "code",
   "execution_count": 1,
   "id": "2e094594-8c47-4c5c-a9ee-1fc0b9cdfa7f",
   "metadata": {},
   "outputs": [
    {
     "name": "stderr",
     "output_type": "stream",
     "text": [
      "C:\\Users\\beili\\miniconda3\\lib\\site-packages\\h5py\\__init__.py:36: UserWarning: h5py is running against HDF5 1.14.6 when it was built against 1.14.5, this may cause problems\n",
      "  _warn((\"h5py is running against HDF5 {0} when it was built against {1}, \"\n"
     ]
    },
    {
     "name": "stdout",
     "output_type": "stream",
     "text": [
      "Shape X: (7, 30, 63), y: (7, 3)\n"
     ]
    }
   ],
   "source": [
    "import pandas as pd\n",
    "import numpy as np\n",
    "from sklearn.preprocessing import LabelEncoder\n",
    "from sklearn.model_selection import train_test_split\n",
    "from tensorflow.keras.utils import to_categorical\n",
    "\n",
    "# Cargar CSV\n",
    "df = pd.read_csv('landmarks.csv')\n",
    "\n",
    "# Codificar etiquetas (HOLA → 0, GRACIAS → 1, etc.)\n",
    "le = LabelEncoder()\n",
    "df['label'] = le.fit_transform(df['label'])\n",
    "\n",
    "# Agrupar por secuencia\n",
    "SEQ_LENGTH = 30  # puedes ajustar\n",
    "\n",
    "sequences = []\n",
    "labels = []\n",
    "\n",
    "for label in df['label'].unique():\n",
    "    clase_df = df[df['label'] == label]\n",
    "    frames = clase_df.drop(columns=['label']).values\n",
    "\n",
    "    # Agrupar de a SEQ_LENGTH frames\n",
    "    for i in range(0, len(frames) - SEQ_LENGTH + 1, SEQ_LENGTH):\n",
    "        seq = frames[i:i + SEQ_LENGTH]\n",
    "        if len(seq) == SEQ_LENGTH:\n",
    "            sequences.append(seq)\n",
    "            labels.append(label)\n",
    "\n",
    "X = np.array(sequences)\n",
    "y = to_categorical(np.array(labels))\n",
    "\n",
    "print(f\"Shape X: {X.shape}, y: {y.shape}\")  # (N_samples, 30, 63) por mano / (N_samples, n_classes)\n"
   ]
  },
  {
   "cell_type": "code",
   "execution_count": null,
   "id": "49092188-5a78-43c4-b03e-058c2247d100",
   "metadata": {},
   "outputs": [],
   "source": []
  }
 ],
 "metadata": {
  "kernelspec": {
   "display_name": "Python 3 (ipykernel)",
   "language": "python",
   "name": "python3"
  },
  "language_info": {
   "codemirror_mode": {
    "name": "ipython",
    "version": 3
   },
   "file_extension": ".py",
   "mimetype": "text/x-python",
   "name": "python",
   "nbconvert_exporter": "python",
   "pygments_lexer": "ipython3",
   "version": "3.9.21"
  }
 },
 "nbformat": 4,
 "nbformat_minor": 5
}
