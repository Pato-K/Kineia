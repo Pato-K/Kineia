{
 "cells": [
  {
   "cell_type": "code",
   "execution_count": 4,
   "id": "257e2cba-4caa-42dd-aa8d-9a3d319205ab",
   "metadata": {},
   "outputs": [],
   "source": [
    "import cv2\n",
    "import mediapipe as mp\n",
    "import os\n",
    "import numpy as np\n",
    "import csv\n",
    "\n",
    "# Config\n",
    "videos_dir = \"dataset/\"\n",
    "output_csv = \"landmarks.csv\"  # Aquí se guarda el dataset\n",
    "mp_hands = mp.solutions.hands\n",
    "hands = mp_hands.Hands(static_image_mode=False, max_num_hands=1)\n",
    "\n",
    "with open(output_csv, 'w', newline='') as f:\n",
    "    writer = csv.writer(f)\n",
    "    writer.writerow(['label'] + [f'{axis}{i}' for i in range(21) for axis in ['x', 'y', 'z']])\n",
    "\n",
    "    for label in os.listdir(videos_dir):\n",
    "        label_path = os.path.join(videos_dir, label)\n",
    "        if not os.path.isdir(label_path): continue\n",
    "\n",
    "        for video_name in os.listdir(label_path):\n",
    "            video_path = os.path.join(label_path, video_name)\n",
    "            cap = cv2.VideoCapture(video_path)\n",
    "\n",
    "            while cap.isOpened():\n",
    "                ret, frame = cap.read()\n",
    "                if not ret: break\n",
    "\n",
    "                image = cv2.cvtColor(frame, cv2.COLOR_BGR2RGB)\n",
    "                results = hands.process(image)\n",
    "\n",
    "                if results.multi_hand_landmarks:\n",
    "                    for hand_landmarks in results.multi_hand_landmarks:\n",
    "                        landmarks = []\n",
    "                        for lm in hand_landmarks.landmark:\n",
    "                            landmarks.extend([lm.x, lm.y, lm.z])\n",
    "                        writer.writerow([label] + landmarks)\n",
    "\n",
    "            cap.release()\n"
   ]
  },
  {
   "cell_type": "code",
   "execution_count": null,
   "id": "d4456eaf-dd2a-453b-a646-e4fea71bf0ba",
   "metadata": {},
   "outputs": [],
   "source": []
  }
 ],
 "metadata": {
  "kernelspec": {
   "display_name": "Python 3 (ipykernel)",
   "language": "python",
   "name": "python3"
  },
  "language_info": {
   "codemirror_mode": {
    "name": "ipython",
    "version": 3
   },
   "file_extension": ".py",
   "mimetype": "text/x-python",
   "name": "python",
   "nbconvert_exporter": "python",
   "pygments_lexer": "ipython3",
   "version": "3.9.21"
  }
 },
 "nbformat": 4,
 "nbformat_minor": 5
}
